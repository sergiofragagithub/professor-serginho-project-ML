{
  "nbformat": 4,
  "nbformat_minor": 0,
  "metadata": {
    "kernelspec": {
      "display_name": "Python 3",
      "language": "python",
      "name": "python3"
    },
    "language_info": {
      "codemirror_mode": {
        "name": "ipython",
        "version": 3
      },
      "file_extension": ".py",
      "mimetype": "text/x-python",
      "name": "python",
      "nbconvert_exporter": "python",
      "pygments_lexer": "ipython3",
      "version": "3.7.4"
    },
    "colab": {
      "provenance": [],
      "include_colab_link": true
    }
  },
  "cells": [
    {
      "cell_type": "markdown",
      "metadata": {
        "id": "view-in-github",
        "colab_type": "text"
      },
      "source": [
        "<a href=\"https://colab.research.google.com/github/sergiofragagithub/professor-serginho-project-ML/blob/master/C%C3%B3pia_de_ML1_ponto_de_partida.ipynb\" target=\"_parent\"><img src=\"https://colab.research.google.com/assets/colab-badge.svg\" alt=\"Open In Colab\"/></a>"
      ]
    },
    {
      "cell_type": "markdown",
      "metadata": {
        "id": "J3LMBfpeHTwb"
      },
      "source": [
        "<head>\n",
        "  <meta name=\"author\" content=\"Rogério de Oliveira\">\n",
        "  <meta institution=\"author\" content=\"Universidade Presbiteriana Mackenzie\">\n",
        "</head>\n",
        "\n",
        "<img src=\"http://meusite.mackenzie.br/rogerio/mackenzie_logo/UPM.2_horizontal_vermelho.jpg\" width=300, align=\"right\">\n",
        "<!-- <h1 align=left><font size = 6, style=\"color:rgb(200,0,0)\"> optional title </font></h1> -->\n"
      ]
    },
    {
      "cell_type": "markdown",
      "metadata": {
        "id": "zQX8WQPeHTwc"
      },
      "source": [
        "# **O que é o Aprendizado de Máquina?**\n",
        "---\n",
        "\n",
        "\n",
        "\n"
      ]
    },
    {
      "cell_type": "markdown",
      "source": [
        "<img src=\"https://github.com/Rogerio-mack/Machine-Learning-I/raw/main/Figures/MLparadigmas/Slide2.PNG\" width=800, align=\"center\">\n",
        "\n",
        " "
      ],
      "metadata": {
        "id": "5pzakzl9QHjh"
      }
    },
    {
      "cell_type": "markdown",
      "source": [
        "<small>\n",
        "\n",
        "<b>\n",
        "Figura 1. Diferentes Áreas relacionadas ao Aprendizado de Máquina."
      ],
      "metadata": {
        "id": "ywLjaa08Q0kR"
      }
    },
    {
      "cell_type": "markdown",
      "source": [
        "<img src=\"https://github.com/Rogerio-mack/Machine-Learning-I/raw/main/Figures/MLparadigmas/Slide1.PNG\" width=800, align=\"center\">"
      ],
      "metadata": {
        "id": "MRxxgtljRy3Z"
      }
    },
    {
      "cell_type": "markdown",
      "source": [
        "<small>\n",
        "\n",
        "<b>\n",
        "Figura 2. O Aprendizado de Máquina: cria um novo paradigma de como programamos os computadores."
      ],
      "metadata": {
        "id": "_pjVoNXeR5bB"
      }
    },
    {
      "cell_type": "markdown",
      "source": [
        "<br>\n",
        "\n",
        "<br>\n",
        "\n",
        "<br>\n",
        "\n",
        "<br>\n",
        "\n",
        "## **O Aprendizado de Máquina se aplica a problemas em que não conhecemos as regras explícitas que mapeam as entradas e saídas desejadas. Se a regra é conhecida o modelo explícito será sempre será mais simples e terá melhores resultados.**\n",
        "\n",
        "<br>\n",
        "\n",
        "<br>\n",
        "\n",
        "<br>\n",
        "\n",
        "<br>"
      ],
      "metadata": {
        "id": "XNoftPApgmg3"
      }
    },
    {
      "cell_type": "markdown",
      "source": [
        "\n",
        "\n",
        "<img src=\"https://github.com/Rogerio-mack/Machine-Learning-I/raw/main/Figures/SUPERVISIONADO_E_REFORCO.png\" width=800, align=\"center\">"
      ],
      "metadata": {
        "id": "Qu0yB4NQEcpb"
      }
    },
    {
      "cell_type": "markdown",
      "source": [
        "<small>\n",
        "\n",
        "<b>\n",
        "Figura 3. Aprendizado de Máquina: Tipos, Tarefas e alguns algoritmos."
      ],
      "metadata": {
        "id": "BgCq7bGYJbTx"
      }
    },
    {
      "cell_type": "markdown",
      "metadata": {
        "id": "bfzvWl9sFX8m"
      },
      "source": [
        "# Aprendizado Supervisionado \n",
        "\n",
        "* **Regressão**\n",
        "* **Classificação**\n"
      ]
    },
    {
      "cell_type": "markdown",
      "metadata": {
        "id": "NNDHUXAjO52R"
      },
      "source": [
        "<img src=\"https://github.com/Rogerio-mack/BIG_DATA_Analytics_Mineracao_e_Analise_de_Dados/blob/main/figuras/ClassificationRegressionBreastCancer.png?raw=true\" width=900, align=\"center\">\n",
        "\n",
        "\n",
        "<small> <b>Figura 4. Acima um mesmo conjunto de dados empregado para o aprendizado supervisionado em problemas de classificação e regressão. $y$ são os rótulos associados a cada instância de dados com variáveis preditoras $X$. Os modelos supervisionados criam, a partir dos exemplos do conjunto de treinamento, uma <i> função </i> que reproduz do mesmo padrão de mapeamento das entradas e saídas do conjunto de treinamento. A classificação trata da predição de valores discretos (as classes diagnosis à esquerda, com valores M(aligno) ou B(enigno)). A regressão trata da predição de valores contínuos, como a área média do tumor (à direita). </b>"
      ]
    },
    {
      "cell_type": "markdown",
      "source": [
        "# Um pouco de Terminologia\n",
        "\n",
        "* Rótulos ou Variável Objetivo, $y$ \n",
        "\n",
        "* Recursos, Features ou Atributos, $X$ \n",
        "\n",
        "* Conjunto de Treinamento\n",
        "\n",
        "* Modelos\n",
        "\n",
        "> $ \\text{Model 1:} \\space \\space \\space y = a_0 + a_1 x_1 + a_2 x_2 + ...$\n",
        "\n",
        "> $ \\text{Model 2:} \\space \\space \\space y = \\text{DecisionTree}(x_0, x_1, ...)$\n",
        "\n",
        "> $ \\text{Model 3:} \\space \\space \\space y = \\text{ANN}(x_0, x_1, ...)$\n"
      ],
      "metadata": {
        "id": "SKfrmGLYZE2K"
      }
    }
  ]
}